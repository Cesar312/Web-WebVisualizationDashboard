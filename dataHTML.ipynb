{
 "cells": [
  {
   "cell_type": "code",
   "execution_count": 1,
   "metadata": {},
   "outputs": [],
   "source": [
    "import pandas as pd\n",
    "import numpy as np"
   ]
  },
  {
   "cell_type": "code",
   "execution_count": 3,
   "metadata": {},
   "outputs": [
    {
     "data": {
      "text/html": [
       "<div>\n",
       "<style scoped>\n",
       "    .dataframe tbody tr th:only-of-type {\n",
       "        vertical-align: middle;\n",
       "    }\n",
       "\n",
       "    .dataframe tbody tr th {\n",
       "        vertical-align: top;\n",
       "    }\n",
       "\n",
       "    .dataframe thead th {\n",
       "        text-align: right;\n",
       "    }\n",
       "</style>\n",
       "<table border=\"1\" class=\"dataframe\">\n",
       "  <thead>\n",
       "    <tr style=\"text-align: right;\">\n",
       "      <th></th>\n",
       "      <th>City_ID</th>\n",
       "      <th>City</th>\n",
       "      <th>Country</th>\n",
       "      <th>Date Processed</th>\n",
       "      <th>Latitude</th>\n",
       "      <th>Longitude</th>\n",
       "      <th>Temperature Max</th>\n",
       "      <th>Humidity</th>\n",
       "      <th>Cloudiness</th>\n",
       "      <th>Wind Speed</th>\n",
       "    </tr>\n",
       "  </thead>\n",
       "  <tbody>\n",
       "    <tr>\n",
       "      <th>0</th>\n",
       "      <td>0</td>\n",
       "      <td>Tatarsk</td>\n",
       "      <td>RU</td>\n",
       "      <td>1561607432</td>\n",
       "      <td>55.22</td>\n",
       "      <td>75.96</td>\n",
       "      <td>52.25</td>\n",
       "      <td>89</td>\n",
       "      <td>100</td>\n",
       "      <td>9.73</td>\n",
       "    </tr>\n",
       "    <tr>\n",
       "      <th>1</th>\n",
       "      <td>1</td>\n",
       "      <td>Saint-Augustin</td>\n",
       "      <td>CA</td>\n",
       "      <td>1561607184</td>\n",
       "      <td>45.63</td>\n",
       "      <td>-73.98</td>\n",
       "      <td>71.60</td>\n",
       "      <td>83</td>\n",
       "      <td>20</td>\n",
       "      <td>8.05</td>\n",
       "    </tr>\n",
       "    <tr>\n",
       "      <th>2</th>\n",
       "      <td>2</td>\n",
       "      <td>Chernoyerkovskaya</td>\n",
       "      <td>RU</td>\n",
       "      <td>1561607529</td>\n",
       "      <td>45.43</td>\n",
       "      <td>37.76</td>\n",
       "      <td>68.00</td>\n",
       "      <td>72</td>\n",
       "      <td>0</td>\n",
       "      <td>8.95</td>\n",
       "    </tr>\n",
       "    <tr>\n",
       "      <th>3</th>\n",
       "      <td>3</td>\n",
       "      <td>Tovarkovskiy</td>\n",
       "      <td>RU</td>\n",
       "      <td>1561607529</td>\n",
       "      <td>53.68</td>\n",
       "      <td>38.22</td>\n",
       "      <td>57.11</td>\n",
       "      <td>96</td>\n",
       "      <td>100</td>\n",
       "      <td>7.09</td>\n",
       "    </tr>\n",
       "    <tr>\n",
       "      <th>4</th>\n",
       "      <td>4</td>\n",
       "      <td>Maldonado</td>\n",
       "      <td>UY</td>\n",
       "      <td>1561607529</td>\n",
       "      <td>-34.91</td>\n",
       "      <td>-54.96</td>\n",
       "      <td>44.60</td>\n",
       "      <td>81</td>\n",
       "      <td>0</td>\n",
       "      <td>3.36</td>\n",
       "    </tr>\n",
       "  </tbody>\n",
       "</table>\n",
       "</div>"
      ],
      "text/plain": [
       "   City_ID               City Country  Date Processed  Latitude  Longitude  \\\n",
       "0        0            Tatarsk      RU      1561607432     55.22      75.96   \n",
       "1        1     Saint-Augustin      CA      1561607184     45.63     -73.98   \n",
       "2        2  Chernoyerkovskaya      RU      1561607529     45.43      37.76   \n",
       "3        3       Tovarkovskiy      RU      1561607529     53.68      38.22   \n",
       "4        4          Maldonado      UY      1561607529    -34.91     -54.96   \n",
       "\n",
       "   Temperature Max  Humidity  Cloudiness  Wind Speed  \n",
       "0            52.25        89         100        9.73  \n",
       "1            71.60        83          20        8.05  \n",
       "2            68.00        72           0        8.95  \n",
       "3            57.11        96         100        7.09  \n",
       "4            44.60        81           0        3.36  "
      ]
     },
     "execution_count": 3,
     "metadata": {},
     "output_type": "execute_result"
    }
   ],
   "source": [
    "city_file = \"cities.csv\"\n",
    "cities_df = pd.read_csv(city_file, encoding=\"UTF-8\")\n",
    "cities_df.head()"
   ]
  },
  {
   "cell_type": "code",
   "execution_count": 4,
   "metadata": {},
   "outputs": [],
   "source": [
    "cities_df.to_html('dataLatitude.html', index = False, header = True)\n",
    "!open dataLatitude.html"
   ]
  },
  {
   "cell_type": "code",
   "execution_count": null,
   "metadata": {},
   "outputs": [],
   "source": []
  }
 ],
 "metadata": {
  "kernelspec": {
   "display_name": "Python 3",
   "language": "python",
   "name": "python3"
  },
  "language_info": {
   "codemirror_mode": {
    "name": "ipython",
    "version": 3
   },
   "file_extension": ".py",
   "mimetype": "text/x-python",
   "name": "python",
   "nbconvert_exporter": "python",
   "pygments_lexer": "ipython3",
   "version": "3.7.3"
  }
 },
 "nbformat": 4,
 "nbformat_minor": 2
}
